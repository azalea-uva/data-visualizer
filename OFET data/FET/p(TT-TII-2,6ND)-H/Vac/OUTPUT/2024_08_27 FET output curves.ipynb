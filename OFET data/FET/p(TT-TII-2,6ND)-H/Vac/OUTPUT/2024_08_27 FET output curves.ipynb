{
 "cells": [
  {
   "cell_type": "code",
   "execution_count": 18,
   "metadata": {},
   "outputs": [],
   "source": [
    "import os\n",
    "import pandas as pd\n",
    "import matplotlib.pyplot as plt\n",
    "from matplotlib.cm import jet\n",
    "import matplotlib as mpl"
   ]
  },
  {
   "cell_type": "code",
   "execution_count": 19,
   "metadata": {},
   "outputs": [],
   "source": [
    "# Set font size\n",
    "mpl.rcParams['font.size'] = 12\n",
    "\n",
    "# Set font\n",
    "plt.rcParams['font.family'] = 'Arial'\n",
    "\n",
    "cmap = jet"
   ]
  },
  {
   "cell_type": "code",
   "execution_count": 20,
   "metadata": {},
   "outputs": [],
   "source": [
    "# グset graph size\n",
    "golden_ratio = (1 + 5 ** 0.5) / 2\n",
    "fig_width = 8  # set width\n",
    "fig_height = fig_width / golden_ratio"
   ]
  },
  {
   "cell_type": "code",
   "execution_count": 21,
   "metadata": {},
   "outputs": [
    {
     "name": "stdout",
     "output_type": "stream",
     "text": [
      "Available xls files:\n",
      "1: B4_FET - Clarius.xls\n",
      "2: A5_FET - Clarius.xls\n",
      "3: B1_FET - Clarius.xls\n",
      "4: A1_FET - Clarius.xls\n",
      "5: B5_FET - Clarius.xls\n",
      "6: D3_FET - Clarius.xls\n",
      "7: A4_FET - Clarius.xls\n",
      "8: A2_FET - Clarius.xls\n",
      "9: B3_FET - Clarius.xls\n",
      "10: D5_FET - Clarius.xls\n",
      "11: A3_FET - Clarius.xls\n",
      "12: B2_FET - Clarius.xls\n",
      "13: D4_FET - Clarius.xls\n",
      "14: C2_FET - Clarius.xls\n",
      "15: A1HYS_FET - Clarius.xls\n",
      "16: C3_FET - Clarius.xls\n",
      "17: C1_FET - Clarius.xls\n",
      "WARNING *** file size (42210) not 512 + multiple of sector size (512)\n",
      "WARNING *** OLE2 inconsistency: SSCS size is 0 but SSAT size is non-zero\n"
     ]
    },
    {
     "ename": "IndexError",
     "evalue": "index 5 is out of bounds for axis 0 with size 4",
     "output_type": "error",
     "traceback": [
      "\u001b[0;31m---------------------------------------------------------------------------\u001b[0m",
      "\u001b[0;31mIndexError\u001b[0m                                Traceback (most recent call last)",
      "Cell \u001b[0;32mIn[21], line 29\u001b[0m\n\u001b[1;32m     27\u001b[0m plt\u001b[38;5;241m.\u001b[39mfigure(figsize\u001b[38;5;241m=\u001b[39m(fig_width, fig_height))\n\u001b[1;32m     28\u001b[0m \u001b[38;5;28;01mfor\u001b[39;00m n \u001b[38;5;129;01min\u001b[39;00m \u001b[38;5;28mrange\u001b[39m(\u001b[38;5;241m1\u001b[39m, \u001b[38;5;241m7\u001b[39m):\n\u001b[0;32m---> 29\u001b[0m     x_column \u001b[38;5;241m=\u001b[39m df\u001b[38;5;241m.\u001b[39mcolumns[\u001b[38;5;241m4\u001b[39m \u001b[38;5;241m*\u001b[39m n \u001b[38;5;241m-\u001b[39m \u001b[38;5;241m3\u001b[39m]\n\u001b[1;32m     30\u001b[0m     y_column \u001b[38;5;241m=\u001b[39m df\u001b[38;5;241m.\u001b[39mcolumns[\u001b[38;5;241m4\u001b[39m \u001b[38;5;241m*\u001b[39m n \u001b[38;5;241m-\u001b[39m \u001b[38;5;241m4\u001b[39m]\n\u001b[1;32m     32\u001b[0m     \u001b[38;5;28;01mif\u001b[39;00m polarity \u001b[38;5;241m==\u001b[39m \u001b[38;5;124m'\u001b[39m\u001b[38;5;124mp\u001b[39m\u001b[38;5;124m'\u001b[39m:\n\u001b[1;32m     33\u001b[0m         \u001b[38;5;66;03m# If polarity is p, multiply the y-axis value by -1\u001b[39;00m\n",
      "File \u001b[0;32m/opt/anaconda3/envs/spectrometry-visualizer/lib/python3.11/site-packages/pandas/core/indexes/base.py:5320\u001b[0m, in \u001b[0;36mIndex.__getitem__\u001b[0;34m(self, key)\u001b[0m\n\u001b[1;32m   5317\u001b[0m \u001b[38;5;28;01mif\u001b[39;00m is_integer(key) \u001b[38;5;129;01mor\u001b[39;00m is_float(key):\n\u001b[1;32m   5318\u001b[0m     \u001b[38;5;66;03m# GH#44051 exclude bool, which would return a 2d ndarray\u001b[39;00m\n\u001b[1;32m   5319\u001b[0m     key \u001b[38;5;241m=\u001b[39m com\u001b[38;5;241m.\u001b[39mcast_scalar_indexer(key, warn_float\u001b[38;5;241m=\u001b[39m\u001b[38;5;28;01mTrue\u001b[39;00m)\n\u001b[0;32m-> 5320\u001b[0m     \u001b[38;5;28;01mreturn\u001b[39;00m getitem(key)\n\u001b[1;32m   5322\u001b[0m \u001b[38;5;28;01mif\u001b[39;00m \u001b[38;5;28misinstance\u001b[39m(key, \u001b[38;5;28mslice\u001b[39m):\n\u001b[1;32m   5323\u001b[0m     \u001b[38;5;66;03m# This case is separated from the conditional above to avoid\u001b[39;00m\n\u001b[1;32m   5324\u001b[0m     \u001b[38;5;66;03m# pessimization com.is_bool_indexer and ndim checks.\u001b[39;00m\n\u001b[1;32m   5325\u001b[0m     result \u001b[38;5;241m=\u001b[39m getitem(key)\n",
      "\u001b[0;31mIndexError\u001b[0m: index 5 is out of bounds for axis 0 with size 4"
     ]
    },
    {
     "data": {
      "image/png": "[encoded data removed]",
      "text/plain": [
       "<Figure size 800x494.427 with 1 Axes>"
      ]
     },
     "metadata": {},
     "output_type": "display_data"
    }
   ],
   "source": [
    "directory_path = os.path.dirname(os.path.abspath('/Users/azaleauva/Desktop/Helen Tran - 2020 Azalea Uva/Raw Data/Graphing/spectrometry-visualizer/OFET data/FET/p(TT-TII-2,6ND)-H/Vac/OUTPUT'))\n",
    "\n",
    "# Get list of xls files in specified directory\n",
    "xls_files = [f for f in os.listdir(directory_path) if f.endswith('.xls')]\n",
    "\n",
    "if not xls_files:\n",
    "    print(\"No xls files were found in the directory.\")\n",
    "else:\n",
    "    print(\"Available xls files:\")\n",
    "    for i, xls_file in enumerate(xls_files):\n",
    "        print(f\"{i + 1}: {xls_file}\")\n",
    "\n",
    "    # Enter index of user-selected file\n",
    "    selected_index = int(input(\"Select the number of files to plot: \")) - 1\n",
    "\n",
    "    if 0 <= selected_index < len(xls_files):\n",
    "        selected_file = xls_files[selected_index]\n",
    "\n",
    "        # Select p or n\n",
    "        polarity = input(\"Select the polarity of the data to plot (p or n):\")\n",
    "\n",
    "        # Load xls file\n",
    "        xls_path = os.path.join(directory_path, selected_file)\n",
    "        df = pd.read_excel(xls_path)\n",
    "\n",
    "        # Set plot\n",
    "        plt.figure(figsize=(fig_width, fig_height))\n",
    "        for n in range(1, 7):\n",
    "            x_column = df.columns[4 * n - 3]\n",
    "            y_column = df.columns[4 * n - 4]\n",
    "\n",
    "            if polarity == 'p':\n",
    "                # If polarity is p, multiply the y-axis value by -1\n",
    "                df[y_column] = -df[y_column]\n",
    "                # Set legend name (-20(n-1) in the range n=1 to 6)\n",
    "                if n == 1:\n",
    "                    legend_name = f'$V_G$ = {-20 * (n - 1)} V'\n",
    "                else:\n",
    "                    legend_name = f'{-20 * (n - 1)} V'\n",
    "            else:\n",
    "                if n == 1:\n",
    "                    legend_name = f'$V_G$ = {20 * (n - 1)} V'\n",
    "                else:\n",
    "                    legend_name = f'{20 * (n - 1)} V'\n",
    "                \n",
    "            color = cmap(n / len(y_column)) \n",
    "            plt.plot(df[x_column], df[y_column], color=color, label=legend_name)\n",
    "        \n",
    "        plt.xlabel(r\"V$_{DS}$ (V)\", fontsize=\"x-large\")\n",
    "        plt.ylabel(r\"|I$_{DS}$| (A)\", fontsize=\"x-large\")\n",
    "        plt.legend()\n",
    "        plt.xlim(-100, 5)\n",
    "        plt.ylim(df[y_column].min()/50, )\n",
    "        # plt.title(\"output\")\n",
    "        # plt.figure(figsize=(fig_width, fig_height))\n",
    "        \n",
    "        # Save the graph in 300dpi JPEG format (save in the current directory)\n",
    "        output_filename = os.path.join(directory_path, \"output_graph.jpg\")\n",
    "        plt.savefig(output_filename, dpi=300, format='jpeg')\n",
    "\n",
    "        plt.show()\n",
    "    else:\n",
    "        print(\"An invalid file number was selected.\")"
   ]
  }
 ],
 "metadata": {
  "kernelspec": {
   "display_name": "my-rdkit-env",
   "language": "python",
   "name": "python3"
  },
  "language_info": {
   "codemirror_mode": {
    "name": "ipython",
    "version": 3
   },
   "file_extension": ".py",
   "mimetype": "text/x-python",
   "name": "python",
   "nbconvert_exporter": "python",
   "pygments_lexer": "ipython3",
   "version": "3.11.4"
  },
  "orig_nbformat": 4
 },
 "nbformat": 4,
 "nbformat_minor": 2
}
