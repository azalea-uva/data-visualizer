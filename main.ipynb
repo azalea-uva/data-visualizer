{
 "cells": [
  {
   "cell_type": "code",
   "execution_count": null,
   "metadata": {},
   "outputs": [],
   "source": [
    "import pandas as pd\n",
    "from pathlib import Path\n",
    "from data.data_utils import (\n",
    "    get_csv_path,\n",
    "    get_json_path,\n",
    "    get_analest_uv_vis_path,\n",
    "    get_analest_fluorescence_path,\n",
    "    get_optics_table_path,\n",
    "    get_plot_path,\n",
    ")\n",
    "from data.spectrum import Spectrum\n",
    "from visualization.plotter import spectrum_subplots, calibration_curve, stacked_spectra\n",
    "from experiments.csv_to_json import csv_to_json"
   ]
  },
  {
   "cell_type": "code",
   "execution_count": null,
   "metadata": {},
   "outputs": [],
   "source": [
    "path_callables: dict = {\n",
    "    \"optics\": {\n",
    "        \"uv_vis\": get_optics_table_path,\n",
    "        \"photoluminescence\": get_optics_table_path,\n",
    "    },\n",
    "    \"ANALEST\": {\n",
    "        \"uv_vis\": get_analest_uv_vis_path,\n",
    "        \"photoluminescence\": get_analest_fluorescence_path,\n",
    "    },\n",
    "}\n",
    "\n",
    "spectrum_callables: dict = {\n",
    "    \"optics\": {\n",
    "        \"uv_vis\": Spectrum.from_optics_table,\n",
    "        \"photoluminescence\": Spectrum.from_optics_table,\n",
    "    },\n",
    "    \"ANALEST\": {\n",
    "        \"uv_vis\": Spectrum.from_analest_uv_vis,\n",
    "        \"photoluminescence\": Spectrum.from_analest_fluorescence,\n",
    "    },\n",
    "}\n",
    "\n",
    "plot_callables: dict = {\n",
    "    \"subplots\": spectrum_subplots,\n",
    "    \"calibration\": calibration_curve,\n",
    "    \"stacked\": stacked_spectra,\n",
    "}"
   ]
  },
  {
   "cell_type": "code",
   "execution_count": null,
   "metadata": {},
   "outputs": [],
   "source": [
    "# Variables to change for a type of plot (linear calibration, mass spec, subplots) and which set of experiments for metadata.\n",
    "type_of_plot: str = \"subplots\"\n",
    "experiment_set: str = \"expt7\""
   ]
  },
  {
   "cell_type": "code",
   "execution_count": null,
   "metadata": {},
   "outputs": [],
   "source": [
    "# Gather data\n",
    "# load experiments.json that you want to plot\n",
    "experiments_path: Path = Path.cwd() / \"experiments\" / \"experiments.json\"\n",
    "experiments: dict = pd.read_json(experiments_path)\n",
    "experiments_to_plot: list[str] = experiments[type_of_plot][experiment_set][\n",
    "    \"experiments\"\n",
    "]\n",
    "metadata_csv_path: Path = get_csv_path(\n",
    "    experiments[type_of_plot][experiment_set][\"experiment_code\"]\n",
    ")\n",
    "metadata_json_path: Path = get_json_path(\n",
    "    experiments[type_of_plot][experiment_set][\"experiment_code\"]\n",
    ")\n",
    "csv_to_json(metadata_csv_path, metadata_json_path)"
   ]
  },
  {
   "cell_type": "code",
   "execution_count": null,
   "metadata": {},
   "outputs": [],
   "source": [
    "# Gather Spectrum into list for plotting\n",
    "spectra: list = []\n",
    "# Iterate through types of measurements\n",
    "for measurement in experiments[type_of_plot][experiment_set][\"measurements\"]:\n",
    "    # Iterate through experiments to plot\n",
    "    for experiment_to_plot in experiments_to_plot:\n",
    "        # get path for specific experiment\n",
    "        experiment_to_plot_path: Path = path_callables[\n",
    "            experiments[type_of_plot][experiment_set][\"instrument\"]\n",
    "        ][measurement](experiment_to_plot)\n",
    "        # create spectrum object with path, etc.\n",
    "        spectrum: Spectrum = spectrum_callables[\n",
    "            experiments[type_of_plot][experiment_set][\"instrument\"]\n",
    "        ][measurement](\n",
    "            experiment_to_plot_path,\n",
    "            experiment_to_plot,\n",
    "            experiments[type_of_plot][experiment_set][\"experiment_code\"],\n",
    "            metadata_json_path,\n",
    "            measurement,\n",
    "        )\n",
    "        spectra.append(spectrum)"
   ]
  },
  {
   "cell_type": "code",
   "execution_count": null,
   "metadata": {},
   "outputs": [],
   "source": [
    "# Sanity Check before plotting\n",
    "if len(spectra) == 0:\n",
    "    raise ValueError(\"No spectra to plot\")\n",
    "if len(spectra[0].wavelengths) == 0:\n",
    "    raise ValueError(\"No wavelengths to plot\")\n",
    "if len(spectra[0].intensity) == 0:\n",
    "    raise ValueError(\"No intensities to plot\")"
   ]
  },
  {
   "cell_type": "code",
   "execution_count": null,
   "metadata": {},
   "outputs": [],
   "source": [
    "# plot the list of spectra\n",
    "# calibration curves require extra parameter of lambda_max\n",
    "if type_of_plot == \"calibration\":\n",
    "    plot_callables[type_of_plot](\n",
    "        spectra,\n",
    "        experiments[type_of_plot][experiment_set][\"lambda_max\"],\n",
    "        get_plot_path(\n",
    "            spectra, experiments[type_of_plot][experiment_set][\"experiment_code\"]\n",
    "        ),\n",
    "    )\n",
    "else:\n",
    "    plot_callables[type_of_plot](\n",
    "        spectra,\n",
    "        get_plot_path(\n",
    "            spectra, experiments[type_of_plot][experiment_set][\"experiment_code\"]\n",
    "        ),\n",
    "    )"
   ]
  }
 ],
 "metadata": {
  "language_info": {
   "name": "python"
  },
  "orig_nbformat": 4
 },
 "nbformat": 4,
 "nbformat_minor": 2
}
