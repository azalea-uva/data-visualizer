{
 "cells": [
  {
   "cell_type": "code",
   "execution_count": null,
   "metadata": {},
   "outputs": [],
   "source": [
    "# Import all packages needed\n",
    "import matplotlib.pyplot as plt\n",
    "import matplotlib.ticker as ticker\n",
    "import matplotlib\n",
    "import numpy as np\n",
    "import scipy.stats as stats\n",
    "import pandas as pd\n",
    "import seaborn as sns\n",
    "import json\n",
    "from pathlib import Path\n",
    "from matplotlib.ticker import (MultipleLocator, AutoMinorLocator)"
   ]
  },
  {
   "cell_type": "code",
   "execution_count": null,
   "metadata": {},
   "outputs": [],
   "source": [
    "# Import style.json\n",
    "style_path: Path = Path.cwd().parent / 'style' / 'style.json'\n",
    "with open(style_path, 'r') as f: # opens the style.json file\n",
    "    style: dict = json.load(f) # loads as a dictionary object"
   ]
  },
  {
   "cell_type": "code",
   "execution_count": null,
   "metadata": {},
   "outputs": [],
   "source": [
    "# Loading Data (data file must be in the same directory as jupyter notebook)\n",
    "# Import data from excel file\n",
    "# TODO: replace filename with the name of your data file\n",
    "raw_data_filename: str ='au-038-d1-532NM.0.dpt'\n",
    "\n",
    "# Tell program to read the data\n",
    "raw_data: pd.DataFrame = pd.read_csv(raw_data_filename, sep='\\t', header=None) # read data into a pandas dataframe by separating by \"tabs\" and there is no header\n",
    "\n",
    "# Output data\n",
    "raw_data"
   ]
  },
  {
   "cell_type": "code",
   "execution_count": null,
   "metadata": {},
   "outputs": [],
   "source": [
    "# Data preprocessing specific to RAMAN\n",
    "def preprocess(data: pd.DataFrame, normalize: bool = False, baseline: bool = False):\n",
    "    \"\"\"Function that applies transformation to the dataframe which will make it ready for plotting. Note, this is specific to UV-Vis.\"\"\"\n",
    "    # Rename column names\n",
    "    data = data.rename(\n",
    "        columns={\n",
    "            data.columns[0]: \"Wavenumber ($\\mathregular{cm^{-1}}$)\", # rename the first column to Wavenumber cm^-1\n",
    "            data.columns[1]: \"Intensity (a.u.)\", # rename the second column to Intensity a.u.\n",
    "        }\n",
    "    )\n",
    "\n",
    "    # Baseline correction\n",
    "    if baseline: # if this is true, execute the following code\n",
    "        col: str = data.columns[1] # get the column name of the Intensity by its column order in the dataframe\n",
    "        data[col] = data[col] - np.average(data[col][0:50]) # subtract the average of the first 50 data points from the Intensity column\n",
    "\n",
    "    # Normalize absorbance values\n",
    "    if normalize: # if this is true, execute the following code\n",
    "        col: str = data.columns[1] # get the column name of the Intensity by its column order in the dataframe\n",
    "        max_val: float = data[col].max() # get the maximum value of the Intensity column\n",
    "        data[col] = data[col] / max_val # divide the Intensity column by the maximum value of the Intensity column\n",
    "        \n",
    "    return data\n",
    "\n",
    "\n",
    "# NOTE: change True to False if you don't want normalization or baseline correction\n",
    "preprocessed_data: pd.DataFrame = preprocess(raw_data, False, False) # call the function we defined above\n",
    "preprocessed_data"
   ]
  },
  {
   "cell_type": "code",
   "execution_count": null,
   "metadata": {},
   "outputs": [],
   "source": [
    "# Plot the data!\n",
    "# NOTE: User must change the sample names to the correct column names.\n",
    "# seaborn styles\n",
    "sns.set_style(\"ticks\")\n",
    "sns.set_context(\"notebook\") # gives the blank white background theme\n",
    "# sns.set_context(\"notebook\", rc={'figure.figsize':(11.7,8.27)}) # sets the size of the figure\n",
    "\n",
    "# sns.set_theme(context=\"notebook\", style=\"white\", font=\"Helvetica\")\n",
    "\n",
    "graph = sns.lineplot(\n",
    "    data=preprocessed_data, # refers to dataframe that contains the data\n",
    "    x=\"Wavenumber ($\\mathregular{cm^{-1}}$)\", # refers to column header to get all the X data\n",
    "    y=\"Intensity (a.u.)\", # refers to column header to get all the Y data\n",
    "    palette=\"rocket_r\",  #NOTE: User can change the palette here\n",
    "    linewidth=style[\"graph\"][\"default\"][\"line_thickness\"], # refers to the thickness of the line in the graph (this is set in the style.json file)\n",
    ")\n",
    "sns.despine() # this removes the top and right spines of the graph\n",
    "\n",
    "graph.legend(\n",
    "    fontsize=style[\"legend\"][\"font_size\"], # refers to the font size of the legend (this is set in the style.json file)\n",
    "    bbox_to_anchor=(0.7, 0.7), # refers to the position of the legend anchored in the figure\n",
    "    title_fontsize=style[\"legend\"][\"title_font_size\"], # refers to the font size of the legend title\n",
    "    shadow=False, # refers to whether the legend has a shadow or not\n",
    "    frameon=False, # refers to whether the legend has a frame or not\n",
    ")\n",
    "# font family\n",
    "plt.rcParams['font.family'] = style[\"graph\"][\"default\"][\"font_family\"] # refers to the font family of the text in the graph (this is set in the style.json file)\n",
    "\n",
    "# y-axis and x-axis ticks\n",
    "graph.xaxis.set_minor_locator(AutoMinorLocator(2)) # value of AutoMinorLocator dictates number of minor ticks between major ticks in X axis\n",
    "graph.yaxis.set_minor_locator(AutoMinorLocator(2)) # value of AutoMinorLocator dictates number of minor ticks between major ticks in Y axis\n",
    "graph.tick_params(axis=\"y\", direction=\"in\") # direction of major ticks in Y-axis\n",
    "graph.tick_params(axis=\"x\", direction=\"in\") # direction of major ticks in X-axis\n",
    "graph.tick_params(axis=\"y\", which=\"minor\", length=4, direction=\"in\") # direction and length of minor ticks in Y-axis\n",
    "graph.tick_params(axis=\"x\", which=\"minor\", length=4, direction=\"in\") # direction and length of minor ticks in X-axis\n",
    "\n",
    "# NOTE: User can change the x and y limits here\n",
    "plt.xlim(1400, 2800)\n",
    "# NOTE: User can change the y limits here\n",
    "plt.ylim(-200, 1200)\n",
    "\n",
    "# NOTE: make sure you comment this out if you want to save your figure in the directory. Otherwise, your figure will look like a blank screen\n",
    "# plt.show()\n",
    "\n",
    "# Save the figure\n",
    "# NOTE: User can change the filename\n",
    "plt.savefig(\"UV-Vis.svg\", dpi=300, bbox_inches=\"tight\")\n",
    "plt.savefig(\"UV-Vis.jpg\", dpi=300, bbox_inches=\"tight\")"
   ]
  }
 ],
 "metadata": {
  "kernelspec": {
   "display_name": "my-rdkit-env",
   "language": "python",
   "name": "python3"
  },
  "language_info": {
   "codemirror_mode": {
    "name": "ipython",
    "version": 3
   },
   "file_extension": ".py",
   "mimetype": "text/x-python",
   "name": "python",
   "nbconvert_exporter": "python",
   "pygments_lexer": "ipython3",
   "version": "3.11.4"
  },
  "orig_nbformat": 4
 },
 "nbformat": 4,
 "nbformat_minor": 2
}
