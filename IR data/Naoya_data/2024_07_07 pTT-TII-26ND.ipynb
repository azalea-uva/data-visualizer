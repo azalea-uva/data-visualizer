{
 "cells": [
  {
   "cell_type": "code",
   "execution_count": 1,
   "metadata": {},
   "outputs": [
    {
     "name": "stdout",
     "output_type": "stream",
     "text": [
      "Intel MKL WARNING: Support of Intel(R) Streaming SIMD Extensions 4.2 (Intel(R) SSE4.2) enabled only processors has been deprecated. Intel oneAPI Math Kernel Library 2025.0 will require Intel(R) Advanced Vector Extensions (Intel(R) AVX) instructions.\n",
      "Intel MKL WARNING: Support of Intel(R) Streaming SIMD Extensions 4.2 (Intel(R) SSE4.2) enabled only processors has been deprecated. Intel oneAPI Math Kernel Library 2025.0 will require Intel(R) Advanced Vector Extensions (Intel(R) AVX) instructions.\n"
     ]
    }
   ],
   "source": [
    "# Import all packages needed\n",
    "import os\n",
    "import pandas as pd\n",
    "import matplotlib.pyplot as plt\n",
    "from matplotlib.cm import ocean\n",
    "import numpy as np\n",
    "from scipy.ndimage import gaussian_filter1d\n",
    "from scipy.signal import argrelextrema"
   ]
  },
  {
   "cell_type": "markdown",
   "metadata": {},
   "source": []
  },
  {
   "cell_type": "code",
   "execution_count": 2,
   "metadata": {},
   "outputs": [],
   "source": [
    "__file__ = 'modulename.py'\n",
    "script_directory = os.path.dirname(os.path.abspath(__file__))\n",
    "csv_files = [file for file in os.listdir(script_directory) if file.endswith(\".csv\")]"
   ]
  },
  {
   "cell_type": "code",
   "execution_count": 3,
   "metadata": {},
   "outputs": [],
   "source": [
    "datasets = []"
   ]
  },
  {
   "cell_type": "code",
   "execution_count": 4,
   "metadata": {},
   "outputs": [
    {
     "name": "stdout",
     "output_type": "stream",
     "text": [
      "Available CSV files:\n",
      "1. TT-(TII-CHO)2_KBr_based.csv\n",
      "2. p(TT-TII-2,6ND)_KBr_based.csv\n",
      "3. p(TT-TII-PD)_KBr_based.csv\n",
      "4. PTSA_KBr_based.csv\n"
     ]
    }
   ],
   "source": [
    "print(\"Available CSV files:\")\n",
    "for idx, csv_file in enumerate(csv_files, start=1):\n",
    "    print(f\"{idx}. {csv_file}\")"
   ]
  },
  {
   "cell_type": "code",
   "execution_count": 5,
   "metadata": {},
   "outputs": [],
   "source": [
    "selected_files = []\n",
    "while True:\n",
    "    try:\n",
    "        choice = int(input(\"Enter the number of the file you want to plot (enter 0 to exit): \"))\n",
    "        if choice == 0:\n",
    "            break\n",
    "        elif 1 <= choice <= len(csv_files):\n",
    "            selected_files.append(csv_files[choice - 1])\n",
    "        else:\n",
    "            print(\"Invalid selection. Please select the correct number.\")\n",
    "    except ValueError:\n",
    "        print(\"Invalid input. Please enter your number.\")"
   ]
  },
  {
   "cell_type": "code",
   "execution_count": 6,
   "metadata": {},
   "outputs": [
    {
     "ename": "SyntaxError",
     "evalue": "incomplete input (1727609282.py, line 20)",
     "output_type": "error",
     "traceback": [
      "\u001b[0;36m  Cell \u001b[0;32mIn[6], line 20\u001b[0;36m\u001b[0m\n\u001b[0;31m    continue\u001b[0m\n\u001b[0m              ^\u001b[0m\n\u001b[0;31mSyntaxError\u001b[0m\u001b[0;31m:\u001b[0m incomplete input\n"
     ]
    }
   ],
   "source": [
    "for idx, csv_file in enumerate(selected_files):\n",
    "    try:\n",
    "        csv_file_path = os.path.join(script_directory, csv_file)\n",
    "        df = pd.read_csv(csv_file_path, encoding='ISO-8859-1')  \n",
    "\n",
    "        x_data = []\n",
    "        y_data = []\n",
    "\n",
    "        x_column = df.iloc[14:, 0]\n",
    "        y_column = df.iloc[14:, 1]\n",
    "\n",
    "        for x_val, y_val in zip(x_column, y_column):\n",
    "            try:\n",
    "                x_float = float(x_val)\n",
    "                y_float = float(y_val)\n",
    "\n",
    "                x_data.append(x_float)\n",
    "                y_data.append(y_float)\n",
    "            except ValueError:\n",
    "                continue  "
   ]
  },
  {
   "cell_type": "code",
   "execution_count": null,
   "metadata": {},
   "outputs": [],
   "source": [
    "label = os.path.splitext(csv_file)[0]\n",
    "\n",
    "# Normalize absorbance values based on the maximum and minimum absorbance\n",
    "        min_absorbance = min(y_data)\n",
    "        max_absorbance = max(y_data)\n",
    "        y_data_normalized = [(y - min_absorbance) / (max_absorbance - min_absorbance) for y in y_data]\n",
    "\n",
    "# Apply Gaussian smoothing\n",
    "        y_data_smooth = gaussian_filter1d(y_data_normalized, sigma=smoothing_sigma)\n",
    "\n",
    "        # Detect peaks\n",
    "        peaks = argrelextrema(np.array(y_data_smooth), np.greater)\n",
    "\n",
    "        datasets.append((x_data, y_data_smooth, label, peaks))\n",
    "\n",
    "        # Save peaks to a CSV file\n",
    "        peaks_df = pd.DataFrame({\n",
    "            'Peak_X_Value': [x_data[i] for i in peaks[0]]\n",
    "        })\n",
    "        peaks_df.to_csv(f'{label}_peaks.csv', index=False)\n",
    "        print(f\"ピークを {label}_peaks.csv に保存しました。\")\n",
    "\n",
    "    except UnicodeDecodeError:\n",
    "        print(f\"Unable to read file {csv_file} with ISO-8859-1 encoding.\")\n",
    "        continue\n"
   ]
  }
 ],
 "metadata": {
  "kernelspec": {
   "display_name": "my-rdkit-env",
   "language": "python",
   "name": "python3"
  },
  "language_info": {
   "codemirror_mode": {
    "name": "ipython",
    "version": 3
   },
   "file_extension": ".py",
   "mimetype": "text/x-python",
   "name": "python",
   "nbconvert_exporter": "python",
   "pygments_lexer": "ipython3",
   "version": "3.11.4"
  },
  "orig_nbformat": 4
 },
 "nbformat": 4,
 "nbformat_minor": 2
}
